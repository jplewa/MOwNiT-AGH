{
 "cells": [
  {
   "cell_type": "code",
   "execution_count": 1,
   "metadata": {},
   "outputs": [
    {
     "name": "stderr",
     "output_type": "stream",
     "text": [
      "/tmp/tmpe8b4iie6.out: symbol lookup error: /tmp/tmpg8ng1lir.out: undefined symbol: gsl_ieee_fprintf_float\n",
      "[C kernel] Executable exited with code 127"
     ]
    }
   ],
   "source": [
    "#include <gsl/gsl_interp.h> \n",
    "#include <gsl/gsl_ieee_utils.h>\n",
    "#include <stdio.h>\n",
    "\n",
    "void ex3(){\n",
    "    float a = 10;\n",
    "    double b = 10;\n",
    "\n",
    "    for (int i = 0; i < 100; i ++){\n",
    "        gsl_ieee_fprintf_float(stdout, &a);\n",
    "        gsl_ieee_fprintf_double(stdout, &b);\n",
    "        printf(\"\\n\");\n",
    "        a /= ((float) 10);\n",
    "        b /= ((double) 10);\n",
    "    }\n",
    "\n",
    "\n",
    "}\n",
    "int main(void){\n",
    "    ex3();\n",
    "    return 0;\n",
    "}"
   ]
  },
  {
   "cell_type": "code",
   "execution_count": 6,
   "metadata": {},
   "outputs": [
    {
     "name": "stdout",
     "output_type": "stream",
     "text": [
      "10.000000\t10.000000\n",
      "200.000000\t200.000000\n",
      "73.333328\t73.333333\n",
      "157.777771\t157.777778\n",
      "101.481476\t101.481481\n",
      "139.012344\t139.012346\n",
      "113.991768\t113.991770\n",
      "130.672150\t130.672154\n",
      "119.551895\t119.551898\n",
      "126.965401\t126.965402\n",
      "122.023064\t122.023066\n",
      "125.317955\t125.317956\n"
     ]
    }
   ],
   "source": [
    "#include <stdio.h>\n",
    "\n",
    "void ex2(){\n",
    "    float prev_a = 200.0;\n",
    "    double prev_b = 200.0;\n",
    "    \n",
    "    float prev_prev_a = 10.0;\n",
    "    double prev_prev_b = 10.0;\n",
    "    \n",
    "    printf(\"%f\\t%lf\\n\", prev_prev_a, prev_prev_b);\n",
    "    printf(\"%f\\t%lf\\n\", prev_a, prev_b);\n",
    "    \n",
    "    for (int i = 0; i < 10; i++){\n",
    "\n",
    "        float a = prev_a / ((float) 3) + ((float) 2) * prev_prev_a / ((float) 3);\n",
    "        double b = prev_b / ((double) 3) + ((double) 2) * prev_prev_b / ((double) 3);\n",
    "        \n",
    "        printf(\"%f\\t%lf\\n\", a, b);\n",
    "\n",
    "        prev_prev_a = prev_a;\n",
    "        prev_prev_b = prev_b;\n",
    "\n",
    "        prev_a = a;\n",
    "        prev_b = b;\n",
    "    }\n",
    "}\n",
    "\n",
    "int main(void){\n",
    "    ex2();\n",
    "    return 0;\n",
    "}"
   ]
  },
  {
   "cell_type": "code",
   "execution_count": 10,
   "metadata": {},
   "outputs": [
    {
     "name": "stderr",
     "output_type": "stream",
     "text": [
      "/tmp/tmpthrxixac.out: symbol lookup error: /tmp/tmpevrei9mv.out: undefined symbol: gsl_ieee_fprintf_float\n",
      "[C kernel] Executable exited with code 127"
     ]
    }
   ],
   "source": []
  },
  {
   "cell_type": "code",
   "execution_count": null,
   "metadata": {},
   "outputs": [],
   "source": []
  }
 ],
 "metadata": {
  "kernelspec": {
   "display_name": "C",
   "language": "c",
   "name": "c"
  },
  "language_info": {
   "file_extension": ".c",
   "mimetype": "text/plain",
   "name": "c"
  }
 },
 "nbformat": 4,
 "nbformat_minor": 2
}
