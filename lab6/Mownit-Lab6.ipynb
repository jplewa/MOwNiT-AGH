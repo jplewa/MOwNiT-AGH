{
 "cells": [
  {
   "cell_type": "markdown",
   "metadata": {},
   "source": [
    "# MOwNiT lab6 - kwadratury oraz metody Monte Carlo"
   ]
  },
  {
   "cell_type": "markdown",
   "metadata": {},
   "source": [
    "<h3> Przydatne linki: </h3>"
   ]
  },
  {
   "cell_type": "markdown",
   "metadata": {},
   "source": [
    "- CPP: https://en.cppreference.com/w/\n",
    "- Całkowanie numeryczne 1: https://eduinf.waw.pl/inf/alg/004_int/0004.php\n",
    "- Całkowanie numeryczne 2: https://pl.wikipedia.org/wiki/Całkowanie_numeryczne\n",
    "- Monte Carlo: https://www.scratchapixel.com/lessons/mathematics-physics-for-computer-graphics/monte-carlo-methods-in-practice/monte-carlo-methods\n"
   ]
  },
  {
   "cell_type": "markdown",
   "metadata": {},
   "source": [
    "<h3> Wstęp teoretyczny</h3>"
   ]
  },
  {
   "attachments": {},
   "cell_type": "markdown",
   "metadata": {},
   "source": [
    "<h3>Kwadratury:</h3>\n",
    "\n",
    "**Metoda prostokątów**\n",
    "\n",
    "W metodzie tej korzystamy z definicji całki oznaczonej Riemanna (czyli wartość całki interpretowana jest jako suma pól obszarów pod wykresem krzywej w zadanym przedziale całkowania $<x_p, x_k>$). Sumę tę przybliżamy przy pomocy sumy pól odpowiednio dobranych prostokątów. Sposób postępowania jest następujący:\n",
    "- przedział całkowania dzielimy na n równoodległych punktów wedle wzoru:\n",
    "$x_i = x_p + \\frac{i}{n}(x_k - x_p)$\n",
    "- obliczamy odległość między dwoma sąsiednimi punktami : $dx = \\frac{x_k - x_p}{n} $ \n",
    "- dla każdego punktu obliczamy wartość funkcji $f_i = f(x_i)$,\n",
    "- obliczamy sumę iloczynów wyznaczonych wartości funkcji: $S = dx(f_1+f_2+...)$\n",
    "\n",
    "Otrzymana suma jest przybliżoną wartością całki oznaczonej funkcji $f(x)$ w przedziale $<x_p,x_k>$: ${\\displaystyle \\int \\limits _{x_{p}}^{x_{k}}f(x)dx \\approx \\frac{x_k - x_p}{n}\\sum _{i=1}^{n}f(x_p + i \\frac{x_k - x_p}{n})}$\n",
    "![image.png](https://eduinf.waw.pl/inf/alg/004_int/images/002_01.gif)\n",
    "\n",
    "**Metoda trapezów**\n",
    "\n",
    "Metoda prostokątów nie jest zbyt dokładna, ponieważ pola użytych w niej prostokątów źle odwzorowują pole pod krzywą. Dużo lepszym rozwiązaniem jest zastosowanie zamiast nich trapezów o wysokości dx i podstawach równych odpowiednio wartości funkcji w punktach krańcowych. Działa analogicznie do metody prostokątów (z jedną różnicą, którą dość łatwo zauważyć) - należy wyliczyć pole trapezu, a nie prostokąta. Kroki postępowania są analogiczne. \n",
    "\n",
    "Ostatecznie otrzymać powinniśmy: ${\\displaystyle \\int \\limits _{x_{p}}^{x_{k}}f(x)dx \\approx \\frac{x_k - x_p}{n}[\\sum _{i=1}^{n-1}f(x_p + i \\frac{x_k - x_p}{n} + \\frac{f(x_p) + f(x_k)}{2})]}$\n",
    "\n",
    "![image2.png](https://eduinf.waw.pl/inf/alg/004_int/images/003_01.gif)\n",
    "\n",
    "**Metoda Simpsona**\n",
    "\n",
    "Najdokładniejsza z opisanych dotąd metod. Jako przybliżenie stosujemy parabolę. Kroki postępowania są następujące:\n",
    "- przedział całkowania dzielimy na n+1 równoodległych punktów wedle wzoru:\n",
    "$x_i = x_p + \\frac{i}{n}(x_k - x_p)$\n",
    "- dla sąsiednich punktów wyznaczamy punkt środkowy $t_i$\\: $t_i = \\frac{x_{i-1} + x_i}{2} $ \n",
    "- obliczamy odległość między punktami. $dx = \\frac{x_k-x_p}{n}$,\n",
    "- dla każdego punktu obliczamy wartość funkcji $f_i = f(x_i)$,\n",
    "- dla każdego podprzedziału $<x_{i-1},x_{i}>$ przybliżamy funkcję za pomocą paraboli g(x),\n",
    "\n",
    "Całość sposobu poradzenia sobie z polem pod parabolą opisany jest [tutaj](https://eduinf.waw.pl/inf/alg/004_int/0004.php)\n",
    "\n",
    "![image3.png](https://eduinf.waw.pl/inf/alg/004_int/images/004_01.gif)\n",
    "\n",
    "**Metody Monte Carlo**\n",
    "\n",
    "Metody te służą do numerycznego rozwiązywania problemów matematycznych przy wykorzystywaniu losowego próbkowania (lub przez symulacje zmiennej losowej). Wszystkie korzystają z pomysłu losowania zmiennej, która następnie posłuży znalezieniu rozwiązania. Problemy MC można podzielić na dwie zasadnicze kategorie:\n",
    "- symulacje,\n",
    "- całkowanie, \n",
    "\n",
    "**Zadania**\n",
    "1. Proszę zaimplementować metodę prostokątów, trapezów oraz Simpsona obliczania całki numerycznej. Proszę zilustrować na wykresie jakość wyników (dla rozwiązań kilku dowolnych całek - wynik najlepiej sprawdzić używając języka mathematica). Dokonać stosownej analizy wyników.\n",
    "2. Przenalizować tutorial dotyczący metod [Monte Carlo](https://www.scratchapixel.com/lessons/mathematics-physics-for-computer-graphics/monte-carlo-methods-in-practice/monte-carlo-methods) - zwłaszcza rozdział \"Methods\" oraz \"Integration\", polecam również \"Practical example\". \n",
    "3. Proszę wykorzystać metodę Monte Carlo do obliczenia wartości liczby PI. Dokonać stosownej analizy wyników.\n",
    "4. Proszę zaimplementować metodę Monte Carlo (na bazie tutoriala z Zadania 4) obliczania całki numerycznej. Porównać empirycznie tą metodę z pozostałymi. Dokonać stosownej analizy wyników.\n",
    "\n",
    "5. Dla chętnych: Oddtworzyć zadanie praktyczne z tutoriala dot. Monte Carlo (Rozdział : \"Practical example\"). Wykorzystać fragmenty kodu oraz przeanalizować zadanie.\n",
    "\n",
    "**Wskazówki:** \n",
    "1. Implementacje zrobić w wersji polimorficznej (interfejs całkowania ze stosownymi implementacjami metod wirtualnych). \n",
    "2. Metodę samego całkowania najlepiej zrobić w stylu (double, double, std::function) - końcówki przedziałów + lambda funkcji.\n"
   ]
  },
  {
   "cell_type": "code",
   "execution_count": null,
   "metadata": {},
   "outputs": [],
   "source": []
  }
 ],
 "metadata": {
  "kernelspec": {
   "display_name": "C++14",
   "language": "C++14",
   "name": "xeus-cling-cpp14"
  },
  "language_info": {
   "codemirror_mode": "text/x-c++src",
   "file_extension": ".cpp",
   "mimetype": "text/x-c++src",
   "name": "c++",
   "version": "-std=c++14"
  }
 },
 "nbformat": 4,
 "nbformat_minor": 2
}
