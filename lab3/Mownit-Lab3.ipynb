{
 "cells": [
  {
   "cell_type": "markdown",
   "metadata": {},
   "source": [
    "# MOwNiT lab3 - układy równań liniowych"
   ]
  },
  {
   "cell_type": "markdown",
   "metadata": {},
   "source": [
    "<h3> Przydatne linki: </h3>"
   ]
  },
  {
   "cell_type": "markdown",
   "metadata": {},
   "source": [
    "- CPP: https://en.cppreference.com/w/\n",
    "\n",
    "- Układ równań liniowych: https://pl.wikipedia.org/wiki/Układ_równań_liniowych\n",
    "- Eliminacja Gaussa: https://pl.wikipedia.org/wiki/Metoda_eliminacji_Gaussa, Kincaid-Cheney* str. 245, pełny -pseudokod: str. 252\n",
    "- Norma wektora: https://pl.wikipedia.org/wiki/Przestrze%C5%84_unormowana, K.C. str. 320\n",
    "- Norma macierzy: https://pl.wikipedia.org/wiki/Norma_macierzowa\n",
    "- Faktoryzacja LU: https://pl.wikipedia.org/wiki/Metoda_LU, K.C. str. 294\n",
    "- Faktoryzacja Cholesky'ego: https://en.wikipedia.org/wiki/Cholesky_decomposition, K.C. str. 305\n",
    "- Wyznacznik macierzy: https://pl.wikipedia.org/wiki/Wyznacznik\n",
    "\n",
    "**Dodatkowe źródła przydatne przy implementacjach**\n",
    "- Rozdz. 7. Kincaida i Cheney'a (Systems of Linear Equations).\n",
    "- Rozdz. 8. Kincaida i Cheney'a (Additional Topics Concerning Systems of Linear Equations)."
   ]
  },
  {
   "cell_type": "markdown",
   "metadata": {},
   "source": [
    "**Krótkie omówienie oraz pytania** do powyższych zagadnień"
   ]
  },
  {
   "cell_type": "code",
   "execution_count": 1,
   "metadata": {},
   "outputs": [],
   "source": [
    "#include <vector>\n",
    "#include <iostream>\n",
    "\n",
    "template <typename T> class AGHMatrix \n",
    "{\n",
    "private:\n",
    "    std::vector<std::vector<T>> matrix;\n",
    "    unsigned rows;\n",
    "    unsigned cols;\n",
    "\n",
    "public:\n",
    "    AGHMatrix(const std::vector<std::vector<T>>& matrix);\n",
    "    AGHMatrix(unsigned _rows, unsigned _cols, const T& _initial);\n",
    "    AGHMatrix(const AGHMatrix<T>& rhs);\n",
    "    virtual ~AGHMatrix() = default;\n",
    "\n",
    "    // Operator overloading, for \"standard\" mathematical matrix operations                                                                                                                                                          \n",
    "    AGHMatrix<T>& operator=(const AGHMatrix<T>& rhs);\n",
    "\n",
    "    // Matrix mathematical operations                                                                                                                                                                                               \n",
    "    AGHMatrix<T> operator+(const AGHMatrix<T>& rhs);\n",
    "    AGHMatrix<T> operator*(const AGHMatrix<T>& rhs);\n",
    "\n",
    "    // Access the individual elements                                                                                                                                                                                               \n",
    "    T& operator()(const unsigned& row, const unsigned& col);\n",
    "    const T& operator()(const unsigned& row, const unsigned& col) const;\n",
    "    \n",
    "    // Printing matrix\n",
    "    std::ostream& operator<<(const AGHMatrix<T>& matrix);\n",
    "\n",
    "    // Access the row and column sizes                                                                                                                                                                                              \n",
    "    unsigned get_rows() const;\n",
    "    unsigned get_cols() const;\n",
    "};"
   ]
  },
  {
   "cell_type": "markdown",
   "metadata": {},
   "source": [
    "<h3> Zadania </h3>\n",
    "\n",
    "**Zadanie 1** \n",
    "Proszę w załączonym do laboratorium kodzie napisać funkcję realizującą dodawanie oraz mnożenie macierzy. Po krótce opisać obie metody.  "
   ]
  },
  {
   "cell_type": "code",
   "execution_count": 2,
   "metadata": {},
   "outputs": [],
   "source": [
    "// Addition of two matrices                                                                                                                                                   \n",
    "template<typename T>\n",
    "AGHMatrix<T> AGHMatrix<T>::operator+(const AGHMatrix<T>& rhs) \n",
    "{\n",
    "  // Task 1 - implement addition of two matrices\n",
    "}\n",
    "\n",
    "// Multiplication of this matrix and other                                                                                                                           \n",
    "template<typename T>\n",
    "AGHMatrix<T> AGHMatrix<T>::operator*(const AGHMatrix<T>& rhs) \n",
    "{\n",
    "  // Task 1 - implement multiplication of two matrices\n",
    "}"
   ]
  },
  {
   "cell_type": "markdown",
   "metadata": {},
   "source": [
    "**Uwaga** W poniższych zadania można korzystać z kodu laboratoryjnego dot. macierzy, albo stworzyć własną klasę/strukturę macierzy, na której będą realizowane dalsze zadania."
   ]
  },
  {
   "cell_type": "markdown",
   "metadata": {},
   "source": [
    "**Zadanie 2**  Proszę zaimplementować: \n",
    "    1. Funkcję/metodę, która sprawdzi czy macierz jest symetryczna. \n",
    "    2. Funkcję/metodę, która obliczy wyznacznik macierzy.\n",
    "    3. (*) Metodę transpose()."
   ]
  },
  {
   "cell_type": "markdown",
   "metadata": {},
   "source": [
    "**Zadanie 3**  Proszę zaimplementować algorytm faktoryzacji LU macierzy (można to zrobić przy użyciu kodu dostarczonego do laboratorium lub stworzyć własną strukturę macierzy i na niej działać). Algorytm przetestować na przykładzie z [wikipedii](https://pl.wikipedia.org/wiki/Metoda_LU) lub korzystając z poniższego kodu.  "
   ]
  },
  {
   "cell_type": "code",
   "execution_count": 3,
   "metadata": {},
   "outputs": [],
   "source": [
    "// initialize matrix using specified values\n",
    "std::vector<std::vector<double>> init_LU {{ 5.0, 3.0, 2.0 }, \n",
    "                                          { 1.0, 2.0, 0.0 }, \n",
    "                                          { 3.0, 0.0, 4.0 }};\n",
    "\n",
    "// Jeśli się korzysta z implementacji laboratoryjnej\n",
    "// AGHMatrix<double> mat4(init_LU);"
   ]
  },
  {
   "cell_type": "markdown",
   "metadata": {},
   "source": [
    "**Zadanie 4**  Proszę zaimplementować algorytm faktoryzacji Cholesky'ego macierzy. Jego test można analogicznie do poprzedniego zadania oprzeć o przykład z [wikipedii](https://en.wikipedia.org/wiki/Cholesky_decomposition). Po zakończeniu tego zadania proszę porównać oba algorytmy faktoryzacyjne i opisać różnice w ich konstrukcji."
   ]
  },
  {
   "cell_type": "code",
   "execution_count": 4,
   "metadata": {},
   "outputs": [],
   "source": [
    "// initialize matrix using specified values\n",
    "std::vector<std::vector<double>> init_cholesky {{ 4.0, 12.0, -16.0 }, \n",
    "                                                { 12.0, 37.0, -43.0 }, \n",
    "                                                { -6.0, -43.0, 98.0 }};\n",
    "\n",
    "// Jeśli się korzysta z implementacji laboratoryjnej\n",
    "// AGHMatrix<double> mat4(init_cholesky);"
   ]
  },
  {
   "cell_type": "markdown",
   "metadata": {},
   "source": [
    "**Zadanie 5**  Proszę napisać funkcję (lub klasę wraz z metodami), która realizuje eliminacje Gaussa. Proszę starannie opisać kod, który ją realizuje. Test algorytmu jest najłatwiej zrealizować przy pomocy języka python oraz pakietu numpy (poniższy kod). (*) Dla chętnych - można napisać prosty TestCase, który porówna dwie macierze - poprawną znalaźć przy pomocy pythona. Środowisk testowych w C++ jest kilka - ja polecam GoogleTest.   \n"
   ]
  },
  {
   "cell_type": "code",
   "execution_count": 5,
   "metadata": {},
   "outputs": [],
   "source": [
    "// A = np.matrix([[0.0001, -5.0300, 5.8090, 7.8320],\n",
    "//                [2.2660, 1.9950,  1.2120, 8.0080],\n",
    "//                [8.8500, 5.6810,  4.5520, 1.3020],\n",
    "//                [6.7750, -2.253,  2.9080, 3.9700]])\n",
    "\n",
    "// b = np.matrix([9.5740, 7.2190, 5.7300, 6.2910]).transpose()\n",
    "\n",
    "// x = np.linalg.solve(A, b)\n",
    "\n",
    "// Checking\n",
    "// np.allclose(np.dot(A, x), b)"
   ]
  },
  {
   "cell_type": "markdown",
   "metadata": {},
   "source": [
    "**Zadanie 6** (*)Implementacja metody Jackobiego - tworzenie i wymagania analogicznie do Zad.4."
   ]
  },
  {
   "cell_type": "code",
   "execution_count": null,
   "metadata": {},
   "outputs": [],
   "source": []
  }
 ],
 "metadata": {
  "kernelspec": {
   "display_name": "C++14",
   "language": "C++14",
   "name": "xeus-cling-cpp14"
  },
  "language_info": {
   "codemirror_mode": "text/x-c++src",
   "file_extension": ".cpp",
   "mimetype": "text/x-c++src",
   "name": "c++",
   "version": "-std=c++14"
  }
 },
 "nbformat": 4,
 "nbformat_minor": 2
}
