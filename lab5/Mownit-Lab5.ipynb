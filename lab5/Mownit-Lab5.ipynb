{
 "cells": [
  {
   "cell_type": "markdown",
   "metadata": {},
   "source": [
    "# MOwNiT lab5 - iteracyjne metody rozwiązywania równań liniowych"
   ]
  },
  {
   "cell_type": "markdown",
   "metadata": {},
   "source": [
    "<h3> Przydatne linki: </h3>"
   ]
  },
  {
   "cell_type": "markdown",
   "metadata": {},
   "source": [
    "- CPP: https://en.cppreference.com/w/\n",
    "\n",
    "- Metoda Jacobiego: https://en.wikipedia.org/wiki/Jacobi_method\n",
    "- Metoda SOR: https://en.wikipedia.org/wiki/Successive_over-relaxation\n",
    "- Metoda Gaussa-Seidela: https://en.wikipedia.org/wiki/Gauss%E2%80%93Seidel_method\n",
    "- Rozserzona wersja wstępu teoretycznego : http://mst.mimuw.edu.pl/lecture.php?lecture=mo2&part=Ch5#E12\n",
    "\n",
    "\n",
    "\n",
    "**Dodatkowe źródła**\n",
    "- Bardzo przydatne praktyczne przykłady z opracowaniem wszystkich bardziej znanych metod (od str. 107) : http://bc.pollub.pl/Content/1370/metody.pdf\n",
    "- Kincaid, Cheney, rozdz. 8.2, str. 319"
   ]
  },
  {
   "cell_type": "markdown",
   "metadata": {},
   "source": [
    "<h3> Wstęp teoretyczny</h3>"
   ]
  },
  {
   "cell_type": "markdown",
   "metadata": {},
   "source": [
    "Rozważać będziemy metody iteracyjne, które mogą posłużyć do rozwiązania prostego układu równań: $Ax = b$, $A$ - macierz nieosobliwa (zapewne wielkiego) rozmiaru . Są to metody najprostsze w analizie i implementacji, ale najmniej efektywne. Stanowią jednak ważny składnik jednej z najszybszych metod rozwiązywania niektórych trudnych układów równań.\n",
    "\n",
    "Metody iteracyjne przedstawione na zajęciach bazują na idei rozkładu macierzy $A$ na część ,,łatwo odwracalną” $M$ oraz ,,resztę” $Z$ ($Z = M - A$) .\n",
    "\n",
    "Wszystkie będą bazować na podziale macierzy $A$ na trzy części: diagonalną $D$, ściśle dolną trójkątną $L$ i ściśle górną trójkątną $U$:\n",
    "\n",
    "$L=\\begin{pmatrix}0&&&&\\\\\n",
    "a_{{21}}&0&&&\\\\\n",
    "a_{{31}}&a_{{32}}&0&&\\\\\n",
    "\\vdots&\\vdots&\\ddots&0&\\\\\n",
    "a_{{N1}}&a_{{N2}}&\\cdots&\\cdots&0\\end{pmatrix},\\quad D=\\begin{pmatrix}a_{{11}}&&&&\\\\\n",
    "&a_{{22}}&&&\\\\\n",
    "&&\\ddots&&\\\\\n",
    "&&&\\ddots&\\\\\n",
    "&&&&a_{{NN}}\\end{pmatrix},\\quad U=\\begin{pmatrix}0&a_{{12}}&a_{{13}}&\\cdots&a_{{1N}}\\\\\n",
    "&0&a_{{23}}&\\cdots&a_{{2N}}\\\\\n",
    "&&0&\\ddots&\\vdots\\\\\n",
    "&&&0&\\vdots\\\\\n",
    "&&&&0\\end{pmatrix}$\n",
    "\n",
    "<h3> Metoda Jacobiego </h3>\n",
    "\n",
    "Możemy jej użyć pod warunkiem, że macierz jest dominująca:  $ |a_{ii}|\\geq \\sum _{j\\neq i}|a_{ij}| \\hspace{2mm} \\forall \\hspace{2mm} i. $\n",
    "\n",
    "Zapis macierzowy kroku iteracji wygląda następująco: \n",
    "\n",
    "$$x_{{k+1}}\\,=D^{{-1}}(b-(L+U)x_{{k}})$$\n",
    "\n",
    "Po rozpisaniu na kolejne współrzędne otrzymujemy układ rozszczepionych równań (numer iteracji wyjątkowo zaznaczamy w postaci górnego indeksu):\n",
    "\n",
    "$$x^{{(k+1)}}_{i}=\\frac{1}{a_{{ii}}}\\left(b_{i}-\\sum _{{j\\neq i}}a_{{ij}}x^{{(k)}}_{j}\\right)$$\n",
    "\n",
    "(!) Ważny do zapamiętania jest fakt, że jesteśmy w stanie bardzo łatwo odwrócić macierz.\n",
    "\n",
    "\n",
    "**Zadanie 1**\n",
    "Proszę zaimplementować metodę Jacobiego oraz przetestować jej działanie na kilku znalezionych przez siebie układach równań (nie mniej niż 5 układów, nie więcej niż 10, w miarę możliwości różnorodne). Układy podać w sprawozdaniu.\n",
    "\n",
    "<h3> Metoda Gaussa-Seidela </h3>\n",
    "\n",
    "Heurystyka tej metody opiera się na zmodyfikowaniu metody Jacobiego tak, by w każdym momencie iteracji korzystać z najbardziej ,,aktualnych” współrzędnych przybliżenia rozwiązania $x$ (inny rozkład macierzy $A$).\n",
    "\n",
    "Zapis macierzowy kroku iteracji wygląda następująco: \n",
    "\n",
    "$$x_{{k+1}}=(L+D)^{{-1}}(b-Ux_{{k}})$$\n",
    "\n",
    "Po rozpisaniu na kolejne współrzędne otrzymujemy:\n",
    "\n",
    "$$x^{{(k+1)}}_{i}=\\frac{1}{a_{{ii}}}\\left(b_{i}-\\sum _{{j<i}}a_{{ij}}x^{{(k+1)}}_{j}-\\sum _{{j>i}}a_{{ij}}x^{{(k)}}_{j}\\right)$$\n",
    "\n",
    "**Zadanie 2**\n",
    "Proszę zaimplementować metodę Gaussa-Seidela oraz przetestować jej działanie na układach równań z poprzedniego zadania.\n",
    "\n",
    "<h3> Metoda SOR (Successive Over Relaxation) </h3>\n",
    "\n",
    "Zbieżność metody Gaussa–Seidela można przyspieszyć, wprowadzając parametr relaksacji $\\omega$ i kolejne współrzędne nowego przybliżenia wyznaczać poprzez kombinacje poprzedniego przybliżenia $x^{{(k)}}_{i}$ oraz współrzędną nowego przybliżenia $\\tilde{x}^{{k+1}}_{i}$. Nowe przybliżenie uzyskujemy za pomocą metody Gaussa–Seidela:\n",
    "\n",
    "$x^{{(k+1)}}_{i}=(1-\\omega)x^{{(k)}}_{i}+\\omega\\tilde{x}^{{k+1}}_{i}$\n",
    "\n",
    "Gdy $\\omega=1$ => metoda Gaussa–Seidela.\n",
    "\n",
    "Ostatecznie po podstawieniu otrzymujemy: \n",
    "\n",
    "$$ x_{i}^{(k+1)}=(1-\\omega )x_{i}^{(k)}+{\\frac {\\omega }{a_{ii}}}\\left(b_{i}-\\sum _{j\\lt i}a_{ij}x_{j}^{(k+1)}-\\sum _{j\\gt i}a_{ij}x_{j}^{(k)}\\right),\\quad i=1,2,\\ldots ,n. $$\n",
    "\n",
    "Rozkład macierzy dla metody SOR z parametrem $\\omega$ jest zadany przez: \n",
    "\n",
    "$$M=\\frac{1}{\\omega}D+L,\\qquad Z=\\left(\\frac{1}{\\omega}-1\\right)D-U$$\n",
    "\n",
    "**Zadanie 3**\n",
    "Proszę zaimplementować metodę SOR oraz przetestować jej działanie na układach równań z poprzedniego zadania.\n",
    "\n",
    "**Zadanie 4**\n",
    "Proszę o **TEORETYCZNE** porównanie powyższych metod (zasadniczo wystarczy przeczytać ze zrozumienie wstęp teoretyczny i własnymi słowami je porównać). Proszę wziąć pod uwagę aspekt zbieżności oraz rozkładu na składowe macierze.  \n",
    "\n",
    "**Zadanie 5**\n",
    "Proszę dla powyższych metod porównać tempo zbiegania do rozwiązania (na wykresie). Co można zaobserwować i o czym to może świadczyć?\n",
    "\n"
   ]
  },
  {
   "cell_type": "markdown",
   "metadata": {},
   "source": [
    "$$\n",
    "\\left[\n",
    "\\begin{array}{ccc|c}\n",
    "2 & -1 &  0 &  1 \\\\\n",
    "-1 &  3 & -1 &  8 \\\\\n",
    "0 & -1 &  2 & -5 \\\\\n",
    "    \\end{array}\n",
    "\\right]\n",
    "$$"
   ]
  },
  {
   "cell_type": "markdown",
   "metadata": {},
   "source": [
    "$$\n",
    "\\left[\n",
    "\\begin{array}{ccc|c}\n",
    "2 & -1 &  0 &  1 \\\\\n",
    "-1 &  3 & -1 &  8 \\\\\n",
    "0 & -1 &  2 & -5 \\\\\n",
    "    \\end{array}\n",
    "\\right]\n",
    "$$"
   ]
  },
  {
   "cell_type": "code",
   "execution_count": null,
   "metadata": {},
   "outputs": [],
   "source": []
  }
 ],
 "metadata": {
  "kernelspec": {
   "display_name": "C++14",
   "language": "C++14",
   "name": "xeus-cling-cpp14"
  },
  "language_info": {
   "codemirror_mode": "text/x-c++src",
   "file_extension": ".cpp",
   "mimetype": "text/x-c++src",
   "name": "c++",
   "version": "-std=c++14"
  }
 },
 "nbformat": 4,
 "nbformat_minor": 2
}
