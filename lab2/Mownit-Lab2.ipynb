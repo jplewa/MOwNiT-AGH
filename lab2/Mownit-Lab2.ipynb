{
 "cells": [
  {
   "cell_type": "markdown",
   "metadata": {},
   "source": [
    "# MOwNiT lab2 - interpolacja oraz regresja liniowa"
   ]
  },
  {
   "cell_type": "markdown",
   "metadata": {},
   "source": [
    "<h3> Przydatne linki: </h3>\n"
   ]
  },
  {
   "cell_type": "markdown",
   "metadata": {},
   "source": [
    "- CPP: https://en.cppreference.com/w/\n",
    "\n",
    "- Interpolacja Hermite'a: https://en.wikipedia.org/wiki/Cubic_Hermite_spline\n",
    "- Interpolacja wielomianami: https://graphics.stanford.edu/courses/cs205a-13-fall/assets/notes/chapter11.pdf\n",
    "- Interpolacja Lagrange'a: https://www.mimuw.edu.pl/~kmoszyns/cc.pdf\n",
    "- Regresja liniowa -> \"tutorial for dummies\": https://machinelearningmastery.com/simple-linear-regression-tutorial-for-machine-learning/\n",
    "- Kontynuacja powyższego: https://machinelearningmastery.com/implement-simple-linear-regression-scratch-python/"
   ]
  },
  {
   "cell_type": "markdown",
   "metadata": {},
   "source": [
    "<h3> Cubic Spline Interpolation </h3>\n"
   ]
  },
  {
   "cell_type": "markdown",
   "metadata": {},
   "source": [
    "W skrócie: Mając zbiór danych, które posiadają dany interwał (np. audio) możemy dokonać interpolacji pomiędzy dowolnymi dwoma punktami. \n",
    "Powyższa metoda poza interpolacją pomiędzy samymi punktami zapewnia również ciągłość pierwszej pochodnej (funkcja C1). Bardziej szczegółowy opis metody znajduje się w linkach powyżej, natomiast sposób w jaki dosyć łatwo jest ją zaimplementować znajduje się tutaj: https://dsp.stackexchange.com/questions/18265/bicubic-interpolation/18273#18273\n"
   ]
  },
  {
   "cell_type": "code",
   "execution_count": 1,
   "metadata": {},
   "outputs": [],
   "source": [
    "#include <iostream>\n",
    "#include <vector>\n",
    "#include <array>\n",
    "#include <math.h>\n",
    "\n",
    "typedef std::vector<std::array<float, 2>> PointsList2D;"
   ]
  },
  {
   "cell_type": "code",
   "execution_count": 2,
   "metadata": {},
   "outputs": [],
   "source": [
    "/// <summary>\n",
    "/// Template function used for clamping specified datasets\n",
    "/// </summary>\n",
    "template <typename T>\n",
    "T GetIndexClamped(const std::vector<T> points, int index)\n",
    "{\n",
    "\tif (index < 0)\n",
    "\t\treturn points[0];\n",
    "\telse if (index >= int(points.size()))\n",
    "\t\treturn points.back();\n",
    "\telse\n",
    "\t\treturn points[index];\n",
    "}"
   ]
  },
  {
   "cell_type": "code",
   "execution_count": 3,
   "metadata": {},
   "outputs": [
    {
     "name": "stdout",
     "output_type": "stream",
     "text": [
      "Value at 0 = 0  1.1\n",
      "Value at 0.5 = 0.75625  4.8125\n",
      "Value at 1 = 1.6  8.3\n",
      "Value at 1.5 = 1.975  7.9625\n",
      "Value at 2 = 2.3  6.5\n",
      "Value at 2.5 = 2.89375  5.5875\n",
      "Value at 3 = 3.5  4.7\n",
      "Value at 3.5 = 3.875  3.5125\n",
      "Value at 4 = 4.3  3.1\n",
      "Value at 4.5 = 5.09375  5.66875\n",
      "Value at 5 = 5.9  7.5\n",
      "Value at 5.5 = 6.45  4.025\n",
      "Value at 6 = 6.8  0\n"
     ]
    }
   ],
   "source": [
    "/// <summary>\n",
    "/// Defines structure for interpolation classes\n",
    "/// </summary>\n",
    "class IInterpolation\n",
    "{\n",
    "\t// public construction and destruction methods\n",
    "\tpublic:\n",
    "\t\tvirtual ~IInterpolation() = default;\n",
    "\n",
    "\t// public interface methods\n",
    "\tpublic:\n",
    "        virtual void Interpolate1D(int pointsToInterpolate) =  0;\n",
    "\t\tvirtual void Interpolate2D(int pointsToInterpolate) =  0;\n",
    "\n",
    "};\n",
    "\n",
    "/// <summary>\n",
    "/// Defines Hermite Cubic Interpolation \n",
    "/// </summary>\n",
    "class CubicInterpolation : public IInterpolation\n",
    "{\n",
    "\t// public construction methods\n",
    "\tpublic:\n",
    "\t\tCubicInterpolation(const PointsList2D& points) : pointsList(points) {}\n",
    "\n",
    "    // IInterpolation methods\n",
    "    public:\n",
    "        void Interpolate2D(int pointsToInterpolate) override\n",
    "\t\t{\n",
    "\t\t\tstd::vector<int> index(pointsToInterpolate);\n",
    "\t\t\tstd::vector<float> t;\n",
    "\t\t\tstd::vector<float> tx;\n",
    "\n",
    "\t\t\tint i = 0, points_size = pointsList.size() - 1;\n",
    "\t\t\tstd::generate(index.begin(), index.end(), [&i, &pointsToInterpolate, &points_size, &t, &tx]()\n",
    "\t\t\t{\n",
    "\t\t\t\tfloat percent = ((float)i) / (float(pointsToInterpolate - 1));\n",
    "\t\t\t\ttx.push_back((points_size)* percent);\n",
    "\t\t\t\tt.push_back(tx[i] - floor(tx[i]));\n",
    "\t\t\t\treturn int(tx[i++]);\n",
    "\t\t\t});\n",
    "\n",
    "\t\t\tfor (int i = 0; i < pointsToInterpolate; ++i)\n",
    "\t\t\t{\n",
    "\t\t\t\tstd::array<PolynomialCoeffs, 2> coeffs;\n",
    "\t\t\t\tstd::array<float, 2> A = GetIndexClamped(pointsList, index[i] - 1);\n",
    "\t\t\t\tstd::array<float, 2> B = GetIndexClamped(pointsList, index[i]);\n",
    "\t\t\t\tstd::array<float, 2> C = GetIndexClamped(pointsList, index[i] + 1);\n",
    "\t\t\t\tstd::array<float, 2> D = GetIndexClamped(pointsList, index[i] + 2);\n",
    "\n",
    "\t\t\t\tfor (int i = 0; i < 2; i++)\n",
    "\t\t\t\t{\n",
    "\t\t\t\t\tcoeffs[i].A = A[i];\n",
    "\t\t\t\t\tcoeffs[i].B = B[i];\n",
    "\t\t\t\t\tcoeffs[i].C = C[i];\n",
    "\t\t\t\t\tcoeffs[i].D = D[i];\n",
    "\t\t\t\t}\n",
    "\n",
    "\t\t\t\tfloat x = CubicHermite(coeffs[0], t[i]);\n",
    "\t\t\t\tfloat y = CubicHermite(coeffs[1], t[i]);\n",
    "\n",
    "\t\t\t\tstd::cout << \"Value at \" << tx[i] << \" = \" << x << \"  \" << y << std::endl;\n",
    "\t\t\t}\n",
    "\t\t};\n",
    "\n",
    "        void Interpolate1D(int pointsToInterpolate) override \n",
    "        {\n",
    "            // TODO\n",
    "        }\n",
    "        \n",
    "    // private methods\n",
    "\tprivate:\n",
    "\t\tstruct PolynomialCoeffs\n",
    "\t\t{\n",
    "\t\t\tfloat A, B, C, D;\n",
    "\t\t};\n",
    "\n",
    "        float CubicHermite(PolynomialCoeffs coeffs, float t) const\n",
    "\t\t{\n",
    "\t\t\tfloat a = -coeffs.A / 2.0f + (3.0f*coeffs.B) / 2.0f - (3.0f*coeffs.C) / 2.0f + coeffs.D / 2.0f;\n",
    "\t\t\tfloat b = coeffs.A - (5.0f*coeffs.B) / 2.0f + 2.0f*coeffs.C - coeffs.D / 2.0f;\n",
    "\t\t\tfloat c = -coeffs.A / 2.0f + coeffs.C / 2.0f;\n",
    "\t\t\tfloat d = coeffs.B;\n",
    "\n",
    "\t\t\treturn a * pow(t, 3) + b * pow(t, 2) + c * t + d;\n",
    "\t\t}\n",
    "        \n",
    "\t// private members\n",
    "\tprivate:\n",
    "\t\tconst PointsList2D& pointsList;\n",
    "\n",
    "};\n",
    "\n",
    "\n",
    "// const PointsList1D points1D =\n",
    "// {\n",
    "//     0.0f,\n",
    "//     1.6f,\n",
    "//     2.3f,\n",
    "//     3.5f,\n",
    "//     4.3f,\n",
    "//     5.9f,\n",
    "//     6.8f\n",
    "// };\n",
    "\n",
    "const PointsList2D points2D =\n",
    "{\n",
    "    { 0.0f, 1.1f },\n",
    "    { 1.6f, 8.3f },\n",
    "    { 2.3f, 6.5f },\n",
    "    { 3.5f, 4.7f },\n",
    "    { 4.3f, 3.1f },\n",
    "    { 5.9f, 7.5f },\n",
    "    { 6.8f, 0.0f }\n",
    "};\n",
    "\n",
    "auto interpolation = CubicInterpolation(points2D);\n",
    "interpolation.Interpolate2D(13);\n"
   ]
  },
  {
   "cell_type": "markdown",
   "metadata": {},
   "source": [
    "Wizualizacja powyższej metody: http://demofox.org/cubichermite2d.html"
   ]
  },
  {
   "cell_type": "markdown",
   "metadata": {},
   "source": [
    "**Zadanie 1**\n",
    "W powyższym przykładzie zaimplementować metodę Interpolate1D (najprościej w sposóby analogiczny do metody Interpolate2D). \n",
    "\n",
    "(**Cpp**\\*) Zmienić implementację template'a w taki sposób, aby przyjmował vector punktów (np. PointsList2D) i zwracał również taki wektor, ale odpowiednio \"docięty\" (ang. Clamped vector/list).   "
   ]
  },
  {
   "cell_type": "markdown",
   "metadata": {},
   "source": [
    "**Zadanie 2**\n",
    "Zaimplementować metodę interpolacji Lagrange'a wpasowując sie do powyższego schematu (może być jedynie interpolacja 1D). Porównać obie metody (wystarczy pod kątem teoretycznym, nie implementacyjnym)."
   ]
  },
  {
   "cell_type": "code",
   "execution_count": 4,
   "metadata": {},
   "outputs": [],
   "source": [
    "class LagrangeInterpolation : public IInterpolation\n",
    "{\n",
    "    public:\n",
    "        LagrangeInterpolation(const PointsList2D& points) : pointsList(points) {}\n",
    "\n",
    "        void Interpolate1D(int pointsToInterpolate) override\n",
    "        {\n",
    "            // TODO\n",
    "        };\n",
    "        void Interpolate2D(int pointsToInterpolate) override\n",
    "        {\n",
    "            // TODO\n",
    "        };\n",
    "\n",
    "    private:\n",
    "        const PointsList2D& pointsList;\n",
    "};"
   ]
  },
  {
   "cell_type": "markdown",
   "metadata": {},
   "source": [
    "# Linear regression"
   ]
  },
  {
   "cell_type": "markdown",
   "metadata": {},
   "source": [
    "**Zadanie 3** Napisz funkcję liczącą błąd średniokwadratowy. Na wejściu musi dostawać dwie tablice/dwa wektory równej długości, a na wyjściu ma zwracać sumę kwadratów różnic pomiędzy kolejnymi elementami tych wektorów."
   ]
  },
  {
   "cell_type": "code",
   "execution_count": 5,
   "metadata": {},
   "outputs": [],
   "source": [
    "float rmse(std::vector<float> x, std::vector<float> y)\n",
    "{\n",
    "    // remove this return when implemented\n",
    "    return 0.0f;\n",
    "}"
   ]
  },
  {
   "cell_type": "markdown",
   "metadata": {},
   "source": [
    "**Zadanie 4** Napisz funkcję pobierającą dwa wektory float'ów i zwracającą parametry a i b prostej o równaniu y = ax + b, będącej najlepszą aproksymacją tych punktów."
   ]
  },
  {
   "cell_type": "code",
   "execution_count": 6,
   "metadata": {},
   "outputs": [],
   "source": [
    "std::pair<float,float> linearRegression (std::vector<float> x, std::vector<float> y)\n",
    "{\n",
    "    // remove this return when implemented\n",
    "    return std::make_pair(0.2f, 0.3f);   \n",
    "}"
   ]
  },
  {
   "cell_type": "markdown",
   "metadata": {},
   "source": [
    "**Zadanie 5** Wynik najlepiej przedstawić na wykresie w postaci umieszczenia na nim punktów oraz dopasowanej do nich prostej (najłatwiej dane z C++ zrzucić do pliku lub po prostu skopiować z konsoli, a następnie wykres sporządzić za pomocą gnuplot lub matplotlib - python). Dla odważnych - można korzystać z bibliotek C++ (np. QtCharts)."
   ]
  },
  {
   "cell_type": "markdown",
   "metadata": {},
   "source": [
    "(\\*) **Zadanie 6** Napisz klasę enkapsulującą model regresji liniowej. Klasa powinna mieć metody:\n",
    "\n",
    "- fit, przyjmującą punkty, do których będziemy dopasowywać model,\n",
    "- predict, przyjmująca wektor floatów (tylko x) i zwracającą predykcje naszego modelu dla tych danych wejściowych,\n",
    "- pole coeffs, zwracają współczynniki prostej, którą dopasowywaliśmy\n",
    "\n",
    "Model można zweryfikować na dowolnych danych dwuwymiarowych (np. [tych](https://www.math.muni.cz/~kolacek/docs/frvs/M7222/data/AutoInsurSweden.txt)). Wynik przedstaw analogicznie do tego w zadaniu 5."
   ]
  },
  {
   "cell_type": "code",
   "execution_count": 7,
   "metadata": {},
   "outputs": [],
   "source": [
    "class LinearRegressor\n",
    "{\n",
    "    public:\n",
    "        LinearRegressor() { }\n",
    "        float fit(std::vector<float> x, std::vector<float> y) \n",
    "        { \n",
    "            // remove this return when implemented\n",
    "            return 0.0f;\n",
    "        }\n",
    "        std::vector<float> predict(std::vector<float> x) \n",
    "        { \n",
    "            // remove this return when implemented\n",
    "            return std::vector<float> {0.2f, 0.3f}; \n",
    "        }\n",
    "\n",
    "    private:\n",
    "        std::pair<float, float> coefficients;\n",
    "};"
   ]
  },
  {
   "cell_type": "markdown",
   "metadata": {},
   "source": [
    "Przydatny [link](https://courses.washington.edu/matlab1/ModelFitting.html) do zadania dodatkowego."
   ]
  },
  {
   "cell_type": "code",
   "execution_count": null,
   "metadata": {},
   "outputs": [],
   "source": []
  },
  {
   "cell_type": "code",
   "execution_count": null,
   "metadata": {},
   "outputs": [],
   "source": []
  }
 ],
 "metadata": {
  "kernelspec": {
   "display_name": "C++14",
   "language": "C++14",
   "name": "xeus-cling-cpp14"
  },
  "language_info": {
   "codemirror_mode": "text/x-c++src",
   "file_extension": ".cpp",
   "mimetype": "text/x-c++src",
   "name": "c++",
   "version": "-std=c++14"
  }
 },
 "nbformat": 4,
 "nbformat_minor": 2
}
